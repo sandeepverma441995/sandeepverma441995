{
 "cells": [
  {
   "cell_type": "code",
   "execution_count": 1,
   "id": "74ba67a9-a375-4ca1-8a2d-b07f45813628",
   "metadata": {},
   "outputs": [
    {
     "name": "stdout",
     "output_type": "stream",
     "text": [
      "4\n",
      "5\n"
     ]
    }
   ],
   "source": [
    "x=5\n",
    "y=4\n",
    "x,y=y,x\n",
    "print(x)\n",
    "print(y)"
   ]
  },
  {
   "cell_type": "code",
   "execution_count": 2,
   "id": "1577afb3-f616-4c40-82e6-91c61ed6676b",
   "metadata": {},
   "outputs": [
    {
     "name": "stdin",
     "output_type": "stream",
     "text": [
      "lenth enter 2\n",
      "breath enter 3\n"
     ]
    },
    {
     "name": "stdout",
     "output_type": "stream",
     "text": [
      "area  is 6.00\n"
     ]
    }
   ],
   "source": [
    "#area of triangle\n",
    "l=float(input(\"lenth enter\"))\n",
    "b=float(input(\"breath enter\"))\n",
    "a=l*b\n",
    "print(\"area  is %.2f\"%a)"
   ]
  },
  {
   "cell_type": "code",
   "execution_count": 5,
   "id": "cf5ab201-8f8d-413a-896c-274052ab234b",
   "metadata": {},
   "outputs": [
    {
     "name": "stdin",
     "output_type": "stream",
     "text": [
      "enter temp in celcius 23\n"
     ]
    },
    {
     "name": "stdout",
     "output_type": "stream",
     "text": [
      "temp in ferh is73.40\n"
     ]
    }
   ],
   "source": [
    "#temperature converstion\n",
    "celcius=float(input(\"enter temp in celcius\"))\n",
    "far=(celcius*1.8)+32\n",
    "print(\"temp in ferh is%.2f\"%far)"
   ]
  },
  {
   "cell_type": "code",
   "execution_count": 9,
   "id": "30ea0c12-8ddd-4a0a-85b2-1f8e5735c120",
   "metadata": {},
   "outputs": [
    {
     "name": "stdin",
     "output_type": "stream",
     "text": [
      "enter a word sandy\n"
     ]
    },
    {
     "name": "stdout",
     "output_type": "stream",
     "text": [
      "5\n"
     ]
    }
   ],
   "source": [
    "#lenth of string using len function\n",
    "a=str(input(\"enter a word\"))\n",
    "print(len(a))\n",
    "      \n",
    "       "
   ]
  },
  {
   "cell_type": "code",
   "execution_count": 17,
   "id": "955eb347-dc98-44ff-b6c0-969e757f2f33",
   "metadata": {},
   "outputs": [
    {
     "name": "stdin",
     "output_type": "stream",
     "text": [
      "enter a word sandy\n"
     ]
    },
    {
     "name": "stdout",
     "output_type": "stream",
     "text": [
      "1\n"
     ]
    }
   ],
   "source": [
    "#number of vowels\n",
    "string=input(\"enter a word\")\n",
    "vowels=\"aeiouAEIOU\"\n",
    "count=sum(string.count(vowels)for vowels in vowels)\n",
    "print(count)"
   ]
  },
  {
   "cell_type": "code",
   "execution_count": 3,
   "id": "edb04750-c77d-4fa2-aecd-366e90b7a7e9",
   "metadata": {},
   "outputs": [
    {
     "name": "stdin",
     "output_type": "stream",
     "text": [
      "enter a sentence sandeep\n"
     ]
    },
    {
     "name": "stdout",
     "output_type": "stream",
     "text": [
      "reverse string is peednas\n"
     ]
    }
   ],
   "source": [
    "#reverse string\n",
    "string=str(input(\"enter a sentence\"))\n",
    "string=string[::-1]\n",
    "print(\"reverse string is\",string)\n"
   ]
  },
  {
   "cell_type": "code",
   "execution_count": 17,
   "id": "19ae3367-f9d3-4b94-80e1-9fa5fd19f424",
   "metadata": {},
   "outputs": [
    {
     "name": "stdin",
     "output_type": "stream",
     "text": [
      " radar\n"
     ]
    },
    {
     "name": "stdout",
     "output_type": "stream",
     "text": [
      "yes\n"
     ]
    }
   ],
   "source": [
    "#palindrome\n",
    "def palindrome(s):\n",
    "    return s == s[::-1]\n",
    "\n",
    "s=str(input())\n",
    "ans=palindrome(s)\n",
    "\n",
    "if ans:\n",
    "    print(\"yes\")\n",
    "else:\n",
    "    print(\"no\")"
   ]
  },
  {
   "cell_type": "code",
   "execution_count": 18,
   "id": "5062fdd7-ec10-44e1-a5d8-c88d5d99b39a",
   "metadata": {},
   "outputs": [
    {
     "name": "stdin",
     "output_type": "stream",
     "text": [
      "enter a space sting s a n  de e  p\n"
     ]
    },
    {
     "name": "stdout",
     "output_type": "stream",
     "text": [
      "sandeep\n"
     ]
    }
   ],
   "source": [
    "#remove space from string\n",
    "def removespace(string):\n",
    "    string =string.replace(' ','')\n",
    "    return string\n",
    "string=str(input(\"enter a space sting\"))\n",
    "print(removespace(string))"
   ]
  },
  {
   "cell_type": "code",
   "execution_count": null,
   "id": "99158047-9731-4498-a7ae-bccd9ae4e099",
   "metadata": {},
   "outputs": [],
   "source": []
  }
 ],
 "metadata": {
  "kernelspec": {
   "display_name": "Python 3 (ipykernel)",
   "language": "python",
   "name": "python3"
  },
  "language_info": {
   "codemirror_mode": {
    "name": "ipython",
    "version": 3
   },
   "file_extension": ".py",
   "mimetype": "text/x-python",
   "name": "python",
   "nbconvert_exporter": "python",
   "pygments_lexer": "ipython3",
   "version": "3.10.8"
  }
 },
 "nbformat": 4,
 "nbformat_minor": 5
}
